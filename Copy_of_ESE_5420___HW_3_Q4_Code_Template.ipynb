{
  "cells": [
    {
      "cell_type": "markdown",
      "metadata": {
        "id": "view-in-github",
        "colab_type": "text"
      },
      "source": [
        "<a href=\"https://colab.research.google.com/github/zhongyi33/2021-Fall-ECE-411-Team-10/blob/main/Copy_of_ESE_5420___HW_3_Q4_Code_Template.ipynb\" target=\"_parent\"><img src=\"https://colab.research.google.com/assets/colab-badge.svg\" alt=\"Open In Colab\"/></a>"
      ]
    },
    {
      "cell_type": "markdown",
      "metadata": {
        "id": "klsYpuoDXI6z"
      },
      "source": [
        "# ESE 4020/5420: HW \\#3, Question 4\n",
        "\n",
        "**Name:** _(double-click on this cell and type here)_\n",
        "\n",
        "_________"
      ]
    },
    {
      "cell_type": "markdown",
      "source": [
        "To make things easier for you to export this as a neatly organized PDF to merge to your written work, we've created this coding template for you to complete. You should NOT be submitting this `.ipynb` file to Gradescope - we need one single merged `.pdf` of everything.\n",
        "\n",
        "**IMPORTANT: You _MUST_ make a local copy of this in your Drive otherwise the changes won't be saved!**"
      ],
      "metadata": {
        "id": "228vhZzbc5mb"
      }
    },
    {
      "cell_type": "markdown",
      "metadata": {
        "id": "WZDHu_xPXI68"
      },
      "source": [
        "### Imports and Helper Functions"
      ]
    },
    {
      "cell_type": "code",
      "execution_count": null,
      "metadata": {
        "id": "H-Mv1NxQXI6_"
      },
      "outputs": [],
      "source": [
        "import numpy as np\n",
        "import matplotlib.pyplot as plt\n",
        "import scipy.stats as stats\n",
        "%matplotlib inline"
      ]
    },
    {
      "cell_type": "markdown",
      "source": [
        "Below is a helper function we've written for you that you should call to plot the required graphs. Note that you will need to write your own code in parts (a) through (d) below in order to supply this function with the required inputs."
      ],
      "metadata": {
        "id": "2chdjhIZZ7Dt"
      }
    },
    {
      "cell_type": "code",
      "execution_count": null,
      "metadata": {
        "id": "6BaApT7XXI7A"
      },
      "outputs": [],
      "source": [
        "def plot_power_effect(param_list, power_list, x_label, title):\n",
        "    '''Use this helper function to plot your graphs for parts (a) through (d).\n",
        "\n",
        "    Parameters:\n",
        "    `param_list`: list of the appropriate range of mean//alpha/n/var to use as x-coordinates for your curve\n",
        "    `power_list`: list of the corresponding powers of the test to use as y-coordinates for your curve\n",
        "    `x_label`: string for what you want as the x-axis label for this graph\n",
        "    `title`: string for what you want as the title for this graph\n",
        "    '''\n",
        "    # DO NOT MODIFY THIS CODE\n",
        "    plt.plot(param_list, power_list)\n",
        "    plt.grid()\n",
        "    plt.title(title, size = 16)\n",
        "    plt.xlabel(x_label, size = 12)\n",
        "    plt.ylabel('Power of Test', size = 12)"
      ]
    },
    {
      "cell_type": "markdown",
      "source": [
        "The beta of a test (i.e. probability of making a Type II error) is given by:\n",
        "\n",
        "$$\\beta = \\text{Pr(Type II Error)} = \\text{Pr(Fail to Reject } H_0 \\text{ | } H_0 \\text{ is false})$$\n",
        "\n",
        "The power of a test is given by $$1 - \\beta = \\text{Pr(Reject } H_0 \\text{ | } H_0 \\text{ is false})$$\n",
        "\n",
        "**HINT:** the `norm.cdf` function from `scipy.stats` (which we've already aliased as `stats` for you) may come in handy."
      ],
      "metadata": {
        "id": "B8ppAxE7YDHD"
      }
    },
    {
      "cell_type": "markdown",
      "metadata": {
        "id": "Ri5jC4ZNXI7B"
      },
      "source": [
        "### 4(a): $\\mu$ on Power of Test"
      ]
    },
    {
      "cell_type": "code",
      "execution_count": null,
      "metadata": {
        "id": "YNxOnn57XI7B"
      },
      "outputs": [],
      "source": [
        "### Your Code Here\n"
      ]
    },
    {
      "cell_type": "markdown",
      "metadata": {
        "id": "Z4H8d7VSXI7C"
      },
      "source": [
        "### 4(b): $\\alpha$ on Power of Test"
      ]
    },
    {
      "cell_type": "code",
      "execution_count": null,
      "metadata": {
        "id": "cg-525n9XI7D"
      },
      "outputs": [],
      "source": [
        "### Your Code Here\n"
      ]
    },
    {
      "cell_type": "markdown",
      "metadata": {
        "id": "qDdjWnpLXI7E"
      },
      "source": [
        "### 4(c): $n$ on Power of Test"
      ]
    },
    {
      "cell_type": "code",
      "execution_count": null,
      "metadata": {
        "id": "q0x0EwPMXI7E"
      },
      "outputs": [],
      "source": [
        "### Your Code Here\n"
      ]
    },
    {
      "cell_type": "markdown",
      "metadata": {
        "id": "X_GiZIQWXI7F"
      },
      "source": [
        "### 4(d): $\\sigma^2$ on Power of Test"
      ]
    },
    {
      "cell_type": "code",
      "execution_count": null,
      "metadata": {
        "id": "ockMBQ8GXI7F"
      },
      "outputs": [],
      "source": [
        "### Your Code Here\n"
      ]
    },
    {
      "cell_type": "markdown",
      "metadata": {
        "id": "J6tuI59RXI7G"
      },
      "source": [
        "### 4(e): Comparisons and Interpretations"
      ]
    },
    {
      "cell_type": "markdown",
      "metadata": {
        "id": "zXrKIduDXI7G"
      },
      "source": [
        "#### **(i): _$\\mu$ and Power_**\n",
        "\n",
        "- (double-click and type your response here)"
      ]
    },
    {
      "cell_type": "markdown",
      "source": [
        "#### **(ii): _$\\alpha$ and Power_**\n",
        "\n",
        "- (double-click and type your response here)"
      ],
      "metadata": {
        "id": "qBUKpIuCZtAa"
      }
    },
    {
      "cell_type": "markdown",
      "source": [
        "#### **(iii): _$n$ and Power_**\n",
        "\n",
        "- (double-click and type your response here)"
      ],
      "metadata": {
        "id": "dWPtIK48Zunx"
      }
    },
    {
      "cell_type": "markdown",
      "source": [
        "#### **(iv): _$\\sigma^2$ and Power_**\n",
        "\n",
        "- (double-click and type your response here)"
      ],
      "metadata": {
        "id": "6B1B2OhVZwHT"
      }
    }
  ],
  "metadata": {
    "kernelspec": {
      "display_name": "Python 3",
      "language": "python",
      "name": "python3"
    },
    "language_info": {
      "codemirror_mode": {
        "name": "ipython",
        "version": 3
      },
      "file_extension": ".py",
      "mimetype": "text/x-python",
      "name": "python",
      "nbconvert_exporter": "python",
      "pygments_lexer": "ipython3",
      "version": "3.7.1"
    },
    "colab": {
      "provenance": [],
      "collapsed_sections": [
        "zXrKIduDXI7G",
        "qBUKpIuCZtAa",
        "dWPtIK48Zunx"
      ],
      "include_colab_link": true
    }
  },
  "nbformat": 4,
  "nbformat_minor": 0
}